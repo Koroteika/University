{
  "nbformat": 4,
  "nbformat_minor": 0,
  "metadata": {
    "colab": {
      "provenance": []
    },
    "kernelspec": {
      "name": "python3",
      "display_name": "Python 3"
    },
    "language_info": {
      "name": "python"
    }
  },
  "cells": [
    {
      "cell_type": "markdown",
      "source": [
        "# **Практическая работа №3. Введение в Python. Модули и пакеты**\n",
        "\n",
        "---\n",
        "\n",
        "\n"
      ],
      "metadata": {
        "id": "QliphIp1pbse"
      }
    },
    {
      "cell_type": "markdown",
      "source": [
        "**Обучающийся:** *[Введите ваше ФИО]*  "
      ],
      "metadata": {
        "id": "tTK8mNGDqA8Z"
      }
    },
    {
      "cell_type": "markdown",
      "source": [
        "\n",
        "\n",
        "---"
      ],
      "metadata": {
        "id": "wTJjWD61p_dZ"
      }
    },
    {
      "cell_type": "markdown",
      "source": [
        "## **Цель работы:**\n"
      ],
      "metadata": {
        "id": "8sycqVegUH85"
      }
    },
    {
      "cell_type": "markdown",
      "source": [
        "Создать Python-пакет, включающий функции для преобразования координат между декартовой и сферической системами, а также для работы с файлами. Реализовать консольный интерфейс для взаимодействия с функциями пакета."
      ],
      "metadata": {
        "id": "bdHCMBx4UJTb"
      }
    },
    {
      "cell_type": "markdown",
      "source": [
        "## **Задачи:**\n"
      ],
      "metadata": {
        "id": "aziouLamURhA"
      }
    },
    {
      "cell_type": "markdown",
      "source": [
        "1. Создать структуру пакета с необходимыми модулями.\n",
        "2. Реализовать функции для преобразования координат.\n",
        "3. Реализовать функции для работы с файлами.\n",
        "4. Создать файл `__main__.py` с консольным интерфейсом для работы с пакетом.\n",
        "5. Проверить работоспособность пакета на примере."
      ],
      "metadata": {
        "id": "ZyNB5M23US9G"
      }
    },
    {
      "cell_type": "markdown",
      "source": [
        "## **Теоретическая часть:**"
      ],
      "metadata": {
        "id": "AoEP4riFYmrE"
      }
    },
    {
      "cell_type": "markdown",
      "source": [
        "1. **Преобразование декартовых координат в сферические:**\n",
        "\n",
        "   *Формулы для преобразования:*\n",
        "\n",
        "   $\n",
        "   r = \\sqrt{x^2 + y^2 + z^2}\n",
        "   $\n",
        "\n",
        "   - Эта формула вычисляет радиус $r$ от начала координат до точки с координатами $(x, y, z)$ в декартовой системе. Это расстояние в пространстве.\n",
        "\n",
        "   $\n",
        "   \\theta = 2 \\cdot \\text{atan2}(y, x + \\sqrt{x^2 + y^2})\n",
        "   $\n",
        "\n",
        "   - Формула для $\\theta$ (азимутальный угол) использует функцию $\\text{atan2}$, которая возвращает угол в радианах между положительной осью $x$ и точкой $(x, y)$. Умножение на 2 и добавление $\\sqrt{x^2 + y^2}$ в знаменатель обеспечивает корректное определение угла в диапазоне от 0 до $2\\pi$.\n",
        "\n",
        "   $\n",
        "   \\phi = \\text{atan2}(\\sqrt{x^2 + y^2}, z)\n",
        "   $\n",
        "\n",
        "   - Формула для $\\phi$ (полярный угол) также использует $\\text{atan2}$, но здесь она вычисляет угол между положительной осью $z$ и вектором от начала координат до точки. Это значение также получается в радианах.\n",
        "\n",
        "   **Значения $\\theta$ и $\\phi$ получаются в радианах. Для перевода их в градусы необходимо умножить на $\\frac{180}{\\pi}$.**\n",
        "\n",
        "\n",
        "\n"
      ],
      "metadata": {
        "id": "pEAfpUD_UYNL"
      }
    },
    {
      "cell_type": "markdown",
      "source": [
        "2. **Преобразование сферических координат в декартовые:**\n",
        "\n",
        "  *Формулы для преобразования:*\n",
        "\n",
        "   $\n",
        "   x = r \\cdot \\sin(\\phi) \\cdot \\cos(\\theta)\n",
        "   $\n",
        "   \n",
        "   - Эта формула вычисляет координату $x$ в декартовой системе, используя радиус $r$, полярный угол $\\phi$ и азимутальный угол $\\theta$.\n",
        "\n",
        "   $\n",
        "   y = r \\cdot \\sin(\\phi) \\cdot \\sin(\\theta)\n",
        "   $\n",
        "\n",
        "   - Аналогично, эта формула вычисляет координату $y$ в декартовой системе.\n",
        "\n",
        "   $\n",
        "   z = r \\cdot \\cos(\\phi)\n",
        "   $\n",
        "   \n",
        "   - Эта формула вычисляет координату $z$ в декартовой системе, используя радиус $r$ и полярный угол $\\phi$.\n",
        "\n",
        "   **Значения $\\theta$ и $\\phi$ должны быть заданы в радианах. Если они заданы в градусах, их необходимо предварительно перевести в радианы, умножив на $\\frac{\\pi}{180}$.**"
      ],
      "metadata": {
        "id": "PNgijVwBZQxC"
      }
    },
    {
      "cell_type": "markdown",
      "source": [
        "3. **Преобразование между градусами и радианами:**\n",
        "\n",
        "   $\n",
        "   \\text{градусы} \\rightarrow \\text{радианы}: \\text{degrees} \\cdot \\frac{\\pi}{180}\n",
        "   $\n",
        "   - Эта формула используется для перевода углов из градусов в радианы.\n",
        "\n",
        "   $\n",
        "   \\text{радианы} \\rightarrow \\text{градусы}: \\text{radians} \\cdot \\frac{180}{\\pi}\n",
        "   $\n",
        "   - Эта формула используется для перевода углов из радиан в градусы."
      ],
      "metadata": {
        "id": "km-P3kvIZOo9"
      }
    },
    {
      "cell_type": "code",
      "source": [
        "import math\n",
        "\n",
        "# Пример расчета синуса и косинуса от угла в градусах\n",
        "angle_degrees = 45  # Угол в градусах\n",
        "\n",
        "# Преобразование градусов в радианы\n",
        "angle_radians = math.radians(angle_degrees)\n",
        "\n",
        "# Расчет синуса и косинуса\n",
        "sin_value = math.sin(angle_radians)\n",
        "cos_value = math.cos(angle_radians)\n",
        "\n",
        "print(f\"Синус {angle_degrees} градусов: {sin_value}\")\n",
        "print(f\"Косинус {angle_degrees} градусов: {cos_value}\")"
      ],
      "metadata": {
        "colab": {
          "base_uri": "https://localhost:8080/"
        },
        "id": "UbLbordBWolF",
        "outputId": "375e5e96-02fc-42e5-cd01-4534c65429b8"
      },
      "execution_count": null,
      "outputs": [
        {
          "output_type": "stream",
          "name": "stdout",
          "text": [
            "Синус 45 градусов: 0.7071067811865475\n",
            "Косинус 45 градусов: 0.7071067811865476\n"
          ]
        }
      ]
    },
    {
      "cell_type": "code",
      "source": [
        "# Пример расчета atan2 и преобразования результата в градусы\n",
        "y = 1\n",
        "x = 5\n",
        "\n",
        "# Расчет atan2 в радианах\n",
        "atan2_radians = math.atan2(y, x)\n",
        "\n",
        "# Преобразование результата atan2 в градусы\n",
        "atan2_degrees = math.degrees(atan2_radians)\n",
        "\n",
        "print(f\"atan2({y}, {x}) в радианах: {atan2_radians}\")\n",
        "print(f\"atan2({y}, {x}) в градусах: {atan2_degrees}\")"
      ],
      "metadata": {
        "colab": {
          "base_uri": "https://localhost:8080/"
        },
        "id": "r6gfmCU2XN-j",
        "outputId": "9561f326-c331-48f4-f89d-7a3316521615"
      },
      "execution_count": null,
      "outputs": [
        {
          "output_type": "stream",
          "name": "stdout",
          "text": [
            "atan2(1, 5) в радианах: 0.19739555984988075\n",
            "atan2(1, 5) в градусах: 11.309932474020213\n"
          ]
        }
      ]
    },
    {
      "cell_type": "markdown",
      "source": [
        "\n",
        "\n",
        "## **Практическая часть:**\n",
        "\n"
      ],
      "metadata": {
        "id": "xjcf5dryT4q6"
      }
    },
    {
      "cell_type": "markdown",
      "source": [
        "1. **Создание структуры пакета:**\n",
        "   Создайте директорию `geo_transform` и в ней следующие файлы:\n",
        "   - `__init__.py`\n",
        "   - `transformations.py`\n",
        "   - `utils.py`\n",
        "   - `file_operations.py`\n",
        "   - `__main__.py`\n",
        "\n",
        "2. **Реализация функций преобразования координат:**\n",
        "   В файле `transformations.py` реализуйте функции `cartesian_to_spherical` и `spherical_to_cartesian` с использованием приведенных выше формул.\n",
        "\n",
        "3. **Реализация вспомогательных функций:**\n",
        "   В файле `utils.py` реализуйте функции `deg_to_rad` и `rad_to_deg`.\n",
        "\n",
        "4. **Реализация функций для работы с файлами:**\n",
        "   В файле `file_operations.py` реализуйте функции `write_results_to_file` и `read_coordinates_from_file` для записи и чтения координат из текстовых файлов.\n",
        "\n",
        "5. **Создание `__init__.py`:**\n",
        "   В файле `__init__.py` добавьте импорты всех необходимых функций из других модулей.\n",
        "\n",
        "6. **Реализация консольного интерфейса в `__main__.py`:**\n",
        "   В файле `__main__.py` реализуйте консольный интерфейс для работы с функциями пакета.\n",
        "\n",
        "7. **Проверка работоспособности пакета:**\n",
        "   Запустите пакет как отдельную программу. Проверьте все функции через консольный интерфейс. Импортируйте пакет в стороннем модуле, убедитесь, что все функции работают корректно."
      ],
      "metadata": {
        "id": "3DlYz5qrVG-C"
      }
    },
    {
      "cell_type": "markdown",
      "source": [
        "\n",
        "\n",
        "## **Демонстрация результата:**\n",
        "\n"
      ],
      "metadata": {
        "id": "iIyfPBIGbPdQ"
      }
    },
    {
      "cell_type": "markdown",
      "source": [
        "Вставьте код каждого из ваших модулей в соответствующие ячейки ниже.\n",
        "\n",
        "**Строку, начинающуюся на %%writefile... стирать запрещено**"
      ],
      "metadata": {
        "id": "1ARiSwg3bKML"
      }
    },
    {
      "cell_type": "markdown",
      "source": [
        "### **Содержимое модуля \\_\\_init__.py:**"
      ],
      "metadata": {
        "id": "kcPKYl5abzNp"
      }
    },
    {
      "cell_type": "code",
      "source": [
        "!mkdir geo_transform"
      ],
      "metadata": {
        "id": "T5t41w-tbD5I"
      },
      "execution_count": null,
      "outputs": []
    },
    {
      "cell_type": "code",
      "source": [
        "%%writefile geo_transform/__init__.py\n",
        "\n",
        "# Ваш код"
      ],
      "metadata": {
        "id": "p_UraYekagmv"
      },
      "execution_count": null,
      "outputs": []
    },
    {
      "cell_type": "markdown",
      "source": [
        "### **Содержимое модуля transformations.py:**"
      ],
      "metadata": {
        "id": "GfgJWdI7cHoW"
      }
    },
    {
      "cell_type": "code",
      "source": [
        "%%writefile geo_transform/transformations.py\n",
        "\n",
        "# Ваш код"
      ],
      "metadata": {
        "id": "PEwM6HmucHoX"
      },
      "execution_count": null,
      "outputs": []
    },
    {
      "cell_type": "markdown",
      "source": [
        "### **Содержимое модуля utils.py:**"
      ],
      "metadata": {
        "id": "tw_9FXFkcIBq"
      }
    },
    {
      "cell_type": "code",
      "source": [
        "%%writefile geo_transform/utils.py\n",
        "\n",
        "# Ваш код"
      ],
      "metadata": {
        "id": "y96uQcmTcIBr"
      },
      "execution_count": null,
      "outputs": []
    },
    {
      "cell_type": "markdown",
      "source": [
        "### **Содержимое модуля file_operations.py:**"
      ],
      "metadata": {
        "id": "kmYf0AOwcIOg"
      }
    },
    {
      "cell_type": "code",
      "source": [
        "%%writefile geo_transform/file_operations.py\n",
        "\n",
        "# Ваш код"
      ],
      "metadata": {
        "id": "HkmXurkjcIOg"
      },
      "execution_count": null,
      "outputs": []
    },
    {
      "cell_type": "markdown",
      "source": [
        "### **Содержимое модуля \\_\\_main__.py:**"
      ],
      "metadata": {
        "id": "qUQb0g_RcaUd"
      }
    },
    {
      "cell_type": "code",
      "source": [
        "%%writefile geo_transform/__main__.py\n",
        "\n",
        "# Ваш код"
      ],
      "metadata": {
        "id": "qzNV09hfcaUe"
      },
      "execution_count": null,
      "outputs": []
    },
    {
      "cell_type": "markdown",
      "source": [
        "### **Содержимое модуля main.py (с импортом пакета и тестированием функций из него):**"
      ],
      "metadata": {
        "id": "vGqPXMcdcpxE"
      }
    },
    {
      "cell_type": "code",
      "source": [
        "# Ваш код"
      ],
      "metadata": {
        "id": "4b1mRDL6cpxE"
      },
      "execution_count": null,
      "outputs": []
    }
  ]
}