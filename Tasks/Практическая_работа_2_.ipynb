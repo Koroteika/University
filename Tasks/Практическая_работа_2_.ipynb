{
  "nbformat": 4,
  "nbformat_minor": 0,
  "metadata": {
    "colab": {
      "provenance": [],
      "include_colab_link": true
    },
    "kernelspec": {
      "name": "python3",
      "display_name": "Python 3"
    },
    "language_info": {
      "name": "python"
    }
  },
  "cells": [
    {
      "cell_type": "markdown",
      "metadata": {
        "id": "view-in-github",
        "colab_type": "text"
      },
      "source": [
        "<a href=\"https://colab.research.google.com/github/Koroteika/University/blob/main/Tasks/%22%D0%94%D0%9F%D0%9E_%D0%9E%D1%81%D0%BD%D0%BE%D0%B2%D1%8B_Python_%D0%9F%D1%80%D0%B0%D0%BA%D1%82%D0%B8%D1%87%D0%B5%D1%81%D0%BA%D0%B0%D1%8F_%D1%80%D0%B0%D0%B1%D0%BE%D1%82%D0%B0_2_ipynb%22.ipynb\" target=\"_parent\"><img src=\"https://colab.research.google.com/assets/colab-badge.svg\" alt=\"Open In Colab\"/></a>"
      ]
    },
    {
      "cell_type": "markdown",
      "source": [
        "# **Практическая работа №2. Введение в Python. Циклы в Python: for и while. Функции в Python. Обработка исключений в Python (try, except, else, finally)**\n",
        "\n",
        "---\n",
        "\n",
        "\n"
      ],
      "metadata": {
        "id": "QliphIp1pbse"
      }
    },
    {
      "cell_type": "markdown",
      "source": [
        "**Обучающийся:** *Коротеев Владислав Николаевич*  "
      ],
      "metadata": {
        "id": "tTK8mNGDqA8Z"
      }
    },
    {
      "cell_type": "markdown",
      "source": [
        "\n",
        "\n",
        "---"
      ],
      "metadata": {
        "id": "wTJjWD61p_dZ"
      }
    },
    {
      "cell_type": "markdown",
      "source": [
        "## **Блок заданий №1. Циклы в Python: for и while**\n",
        "\n"
      ],
      "metadata": {
        "id": "-iXZOjjEoLsS"
      }
    },
    {
      "cell_type": "markdown",
      "source": [
        "### 1. **Сумма чисел от 1 до N**  \n",
        "   Напишите программу, которая запрашивает у пользователя число `N` и с помощью цикла `for` вычисляет сумму всех чисел от 1 до `N`."
      ],
      "metadata": {
        "id": "1Vy5lAnxoTrL"
      }
    },
    {
      "cell_type": "code",
      "source": [
        "# Ваш код\n",
        "n=int(input(\"Введите число N: \"))\n",
        "sum=0\n",
        "for i in range(1,n+1):\n",
        "  sum += i\n",
        "print(sum)"
      ],
      "metadata": {
        "id": "GNtKZwXSoSNg",
        "colab": {
          "base_uri": "https://localhost:8080/"
        },
        "outputId": "15e2cfad-4217-4d47-e327-af44b56e12f5"
      },
      "execution_count": null,
      "outputs": [
        {
          "output_type": "stream",
          "name": "stdout",
          "text": [
            "Введите число N: 3\n",
            "6\n"
          ]
        }
      ]
    },
    {
      "cell_type": "markdown",
      "source": [
        "\n",
        "### 2. **Вывод четных чисел**  \n",
        "   Используя цикл `while`, напишите программу, которая выводит все четные числа от 1 до 100."
      ],
      "metadata": {
        "id": "JgNf_8IToNQH"
      }
    },
    {
      "cell_type": "code",
      "source": [
        "# Ваш код\n",
        "n=1\n",
        "while n<=100:\n",
        "  if n%2==0:\n",
        "    print(n, end=' ')\n",
        "  n+=1"
      ],
      "metadata": {
        "id": "0Mgimf-9oWjm",
        "colab": {
          "base_uri": "https://localhost:8080/"
        },
        "outputId": "56a7be03-7174-4902-d383-c004656a0796"
      },
      "execution_count": null,
      "outputs": [
        {
          "output_type": "stream",
          "name": "stdout",
          "text": [
            "2 4 6 8 10 12 14 16 18 20 22 24 26 28 30 32 34 36 38 40 42 44 46 48 50 52 54 56 58 60 62 64 66 68 70 72 74 76 78 80 82 84 86 88 90 92 94 96 98 100 "
          ]
        }
      ]
    },
    {
      "cell_type": "markdown",
      "source": [
        "### 3. **Таблица умножения**  \n",
        "   Напишите программу, которая с помощью вложенного цикла `for` выводит таблицу умножения (от 1 до 10)."
      ],
      "metadata": {
        "id": "WvLRnMt8oOpv"
      }
    },
    {
      "cell_type": "markdown",
      "source": [
        "**Пример выходных данных**\n",
        "```\n",
        "   1   2   3   4   5   6   7   8   9  10\n",
        "   2   4   6   8  10  12  14  16  18  20\n",
        "   3   6   9  12  15  18  21  24  27  30\n",
        "   4   8  12  16  20  24  28  32  36  40\n",
        "   5  10  15  20  25  30  35  40  45  50\n",
        "   6  12  18  24  30  36  42  48  54  60\n",
        "   7  14  21  28  35  42  49  56  63  70\n",
        "   8  16  24  32  40  48  56  64  72  80\n",
        "   9  18  27  36  45  54  63  72  81  90\n",
        "  10  20  30  40  50  60  70  80  90 100\n",
        "```\n"
      ],
      "metadata": {
        "id": "lMCzrvNAuiPt"
      }
    },
    {
      "cell_type": "code",
      "source": [
        "# Ваш код\n",
        "for i in range(1,11):\n",
        "  for j in range(1,11):\n",
        "    print(f\"{i*j:4}\",end='')\n",
        "  print()"
      ],
      "metadata": {
        "id": "9bTYZUCqoW9l",
        "colab": {
          "base_uri": "https://localhost:8080/"
        },
        "outputId": "4d3c0a5b-0a76-4fb9-e42b-35c1543c3db5"
      },
      "execution_count": 5,
      "outputs": [
        {
          "output_type": "stream",
          "name": "stdout",
          "text": [
            "   1   2   3   4   5   6   7   8   9  10\n",
            "   2   4   6   8  10  12  14  16  18  20\n",
            "   3   6   9  12  15  18  21  24  27  30\n",
            "   4   8  12  16  20  24  28  32  36  40\n",
            "   5  10  15  20  25  30  35  40  45  50\n",
            "   6  12  18  24  30  36  42  48  54  60\n",
            "   7  14  21  28  35  42  49  56  63  70\n",
            "   8  16  24  32  40  48  56  64  72  80\n",
            "   9  18  27  36  45  54  63  72  81  90\n",
            "  10  20  30  40  50  60  70  80  90 100\n"
          ]
        }
      ]
    },
    {
      "cell_type": "markdown",
      "source": [
        "### 4. **Обратный отсчет**  \n",
        "   Напишите программу, которая с помощью цикла `while` выводит обратный отсчет от 10 до 1, а затем выводит сообщение \"Старт!\"."
      ],
      "metadata": {
        "id": "alRU4K6moPoX"
      }
    },
    {
      "cell_type": "code",
      "source": [
        "# Ваш код\n",
        "n=10\n",
        "while n>=1:\n",
        "  print(n)\n",
        "  n-=1\n",
        "print(\"Старт!\")\n",
        "# for i in range(n, 0,-1):\n",
        "#   print(i)\n",
        "\n",
        "# print(\"Старт!\")"
      ],
      "metadata": {
        "id": "xlwpaJbkoXja",
        "colab": {
          "base_uri": "https://localhost:8080/"
        },
        "outputId": "d1c38f3c-5ee9-4c3d-afe9-0a5adc127851"
      },
      "execution_count": null,
      "outputs": [
        {
          "output_type": "stream",
          "name": "stdout",
          "text": [
            "10\n",
            "9\n",
            "8\n",
            "7\n",
            "6\n",
            "5\n",
            "4\n",
            "3\n",
            "2\n",
            "1\n",
            "Старт!\n"
          ]
        }
      ]
    },
    {
      "cell_type": "markdown",
      "source": [
        "\n",
        "\n",
        "### 5. **Поиск максимального числа**  \n",
        "   Напишите программу, которая запрашивает у пользователя 5 чисел и с помощью цикла `for` находит и выводит максимальное из них."
      ],
      "metadata": {
        "id": "ZOrByPyjoQrK"
      }
    },
    {
      "cell_type": "code",
      "source": [
        "# Ваш код\n",
        "max_num = None\n",
        "\n",
        "for _ in range(5):\n",
        "    num = int(input(\"Введите число: \"))\n",
        "    if not max_num or num > max_num:\n",
        "        max_num = num\n",
        "\n",
        "print(\"Максимальное число:\", max_num)"
      ],
      "metadata": {
        "id": "nPiZGu03oX6V",
        "colab": {
          "base_uri": "https://localhost:8080/"
        },
        "outputId": "de04c7d1-d74f-4ebe-af70-668d9248228c"
      },
      "execution_count": null,
      "outputs": [
        {
          "output_type": "stream",
          "name": "stdout",
          "text": [
            "Введите число: 1\n",
            "Введите число: 2\n",
            "Введите число: 3\n",
            "Введите число: 4\n",
            "Введите число: 2\n",
            "Максимальное число: 4\n"
          ]
        }
      ]
    },
    {
      "cell_type": "markdown",
      "source": [
        "## **Блок заданий №2. Функции в Python**\n"
      ],
      "metadata": {
        "id": "n3_ntES4op47"
      }
    },
    {
      "cell_type": "markdown",
      "source": [
        "При написании функций используйте аннотацию типов, а также добавляйте строку документации."
      ],
      "metadata": {
        "id": "e8JyxIPov56d"
      }
    },
    {
      "cell_type": "markdown",
      "source": [
        "### 1. **Функция для вычисления факториала**  \n",
        "   Напишите функцию `factorial(n)`, которая принимает число `n` и возвращает его факториал. Проверьте работу функции на нескольких примерах.\n",
        "\n",
        "\n",
        "\n",
        "\n",
        "\n",
        "\n",
        "\n"
      ],
      "metadata": {
        "id": "0hZbwgVmocJb"
      }
    },
    {
      "cell_type": "code",
      "source": [
        "# Ваш код\n",
        "def factorial(n:int)->int:\n",
        "  \"\"\"Нахождение факториала\n",
        "     Args:\n",
        "         n (int): Неотрицательное целое число, для которого нужно вычислить факториал.\n",
        "     Returns:\n",
        "         int: Факториал числа n.\"\"\"\n",
        "  if n<=1:\n",
        "    return 1\n",
        "  else:\n",
        "    return n*factorial(n-1)\n",
        "a=int(input(\"Введите число: \"))\n",
        "m=factorial(a)\n",
        "print(f\"Факториал равен {a} = {m}\")\n"
      ],
      "metadata": {
        "id": "-HdkvvY9owo8",
        "colab": {
          "base_uri": "https://localhost:8080/"
        },
        "outputId": "b952b427-3cbb-4599-cc91-856cbe613282"
      },
      "execution_count": null,
      "outputs": [
        {
          "output_type": "stream",
          "name": "stdout",
          "text": [
            "Введите число: 5\n",
            "Факториал равен 5 = 120\n"
          ]
        }
      ]
    },
    {
      "cell_type": "markdown",
      "source": [
        "### 2. **Функция для проверки четности**  \n",
        "   Напишите функцию `is_even(n)`, которая принимает число `n` и возвращает `True`, если число четное, и `False` в противном случае."
      ],
      "metadata": {
        "id": "xEQgEhEKovb6"
      }
    },
    {
      "cell_type": "code",
      "source": [
        "# Ваш код\n",
        "def is_even(n:int)->bool:\n",
        "  \"\"\"Проверяет четное число или нет\n",
        "  Args:\n",
        "         n (int): Неотрицательное целое число, для которого выполняется проверка.\n",
        "  Returns:\n",
        "         bool: четное или нет\"\"\"\n",
        "  if n%2==0:\n",
        "    return True\n",
        "  else:\n",
        "    return False\n",
        "a=5\n",
        "b=4\n",
        "print(is_even(a))\n",
        "print(is_even(b))"
      ],
      "metadata": {
        "id": "Qbgw2_QLow--",
        "colab": {
          "base_uri": "https://localhost:8080/"
        },
        "outputId": "b06cfb44-238c-4260-a36d-779d414eabdf"
      },
      "execution_count": null,
      "outputs": [
        {
          "output_type": "stream",
          "name": "stdout",
          "text": [
            "False\n",
            "True\n"
          ]
        }
      ]
    },
    {
      "cell_type": "markdown",
      "source": [
        "### 3. **Функция с именованными аргументами**  \n",
        "   Напишите функцию `person_info(name, age, city=\"Москва\")`, которая принимает имя, возраст и город (по умолчанию \"Москва\"). Функция должна возвращать строку с информацией о человеке.  \n",
        "   \n",
        "   Пример:  \n",
        "```\n",
        "person_info(\"Иван\", 25) → \"Иван, 25 лет, из города Москва\"\n",
        "person_info(\"Мария\", 30, \"Санкт-Петербург\") → \"Мария, 30 лет, из города Санкт-Петербург\"\n",
        "```"
      ],
      "metadata": {
        "id": "-PWnY3LcouSk"
      }
    },
    {
      "cell_type": "code",
      "source": [
        "# Ваш код\n",
        "def person_info(name:str,age:int,city=\"Москва\")->None:\n",
        "  \"\"\"Возвращает информацию о человеке\n",
        "      Args:\n",
        "          name (str): Имя человека\n",
        "          age (int): Возраст человека\n",
        "          city (str): Город\n",
        "      Returns:\n",
        "        None\"\"\"\n",
        "  print(f\"{name.title()},{age} лет, из города {city.title()}\")\n",
        "\n",
        "person_info(\"Иван\",25)\n",
        "person_info(\"Мария\",30,\"Санкт-Петербург\")"
      ],
      "metadata": {
        "id": "8x-s4u8voxUR",
        "colab": {
          "base_uri": "https://localhost:8080/"
        },
        "outputId": "0c6b5d3b-90f6-4505-819f-d38d49b096d3"
      },
      "execution_count": null,
      "outputs": [
        {
          "output_type": "stream",
          "name": "stdout",
          "text": [
            "Иван,25 лет, из города Москва\n",
            "Мария,30 лет, из города Санкт-Петербург\n"
          ]
        }
      ]
    },
    {
      "cell_type": "markdown",
      "source": [
        "### 4. **Фильтрация четных чисел**  \n",
        "   Напишите функцию `filter_even(*args)`, которая принимает произвольное количество чисел и возвращает список только из четных чисел.  \n",
        "   Пример:  \n",
        "   ```\n",
        "   filter_even(1, 2, 3, 4, 5, 6) → [2, 4, 6]\n",
        "   filter_even(7, 9, 11) → []\n",
        "   ```"
      ],
      "metadata": {
        "id": "DxtROjY3osrS"
      }
    },
    {
      "cell_type": "code",
      "source": [
        "# Ваш код\n",
        "def filter_even(*args):\n",
        "  \"\"\"Возвращает список из четных чисел\"\"\"\n",
        "  return [num for num in args if num%2==0]\n",
        "\n",
        "print(filter_even(1, 2, 3, 4, 5, 6))\n",
        "print(filter_even(7, 9, 11))\n"
      ],
      "metadata": {
        "id": "CMROKo1Iox9C",
        "colab": {
          "base_uri": "https://localhost:8080/"
        },
        "outputId": "c1dfa5cc-6e06-4e44-d99d-b8148c07750a"
      },
      "execution_count": null,
      "outputs": [
        {
          "output_type": "stream",
          "name": "stdout",
          "text": [
            "[2, 4, 6]\n",
            "[]\n"
          ]
        }
      ]
    },
    {
      "cell_type": "markdown",
      "source": [
        "### 5. **Функция для вычисления статистики**  \n",
        "   Напишите функцию `calculate_stats(*args, **kwargs)`, которая:  \n",
        "   - Из позиционных аргументов вычисляет минимальное, максимальное и среднее значение.  \n",
        "   - Из именованных аргументов возвращает словарь, где ключи — это аргументы, а значения — их типы данных.  \n",
        "   Пример:  \n",
        "   ```\n",
        "   calculate_stats(1, 2, 3, 4, name=\"Иван\", age=25) → ((1, 4, 2.5), {\"name\": \"str\", \"age\": \"int\"})\n",
        "   ```"
      ],
      "metadata": {
        "id": "TPLTxuASorpB"
      }
    },
    {
      "cell_type": "code",
      "source": [
        "def calculate_stats(*args, **kwargs):\n",
        "    \"\"\"Из позиционных аргументов вычисляет минимальное, максимальное и среднее значение.\n",
        "    Из именованных аргументов возвращает словарь, где ключи — это аргументы, а значения — их типы данных.\n",
        "    \"\"\"\n",
        "    if args:\n",
        "        minimum = min(args)\n",
        "        maximum = max(args)\n",
        "        average = sum(args) / len(args)\n",
        "        stats = (minimum, maximum, average)\n",
        "    else:\n",
        "        stats = (None, None, None)\n",
        "\n",
        "    types_dict = {key: type(value).__name__ for key, value in kwargs.items()}\n",
        "\n",
        "    return stats, types_dict\n",
        "\n",
        "result = calculate_stats(1, 2, 3, 4, name=\"Иван\", age=25)\n",
        "print(result)\n",
        "\n",
        "\n"
      ],
      "metadata": {
        "id": "F-1JYEoMoykp",
        "colab": {
          "base_uri": "https://localhost:8080/"
        },
        "outputId": "a0f5bfe6-6d41-4c22-9b97-fe3e0fc3dd4d"
      },
      "execution_count": null,
      "outputs": [
        {
          "output_type": "stream",
          "name": "stdout",
          "text": [
            "((1, 4, 2.5), {'name': 'str', 'age': 'int'})\n"
          ]
        }
      ]
    },
    {
      "cell_type": "markdown",
      "source": [
        "## **Блок заданий №3. Работа с текстовыми файлами в Python**\n"
      ],
      "metadata": {
        "id": "ZwSzb-PToe-5"
      }
    },
    {
      "cell_type": "markdown",
      "source": [
        "### 1. **Запись в файл**  \n",
        "   Напишите программу, которая запрашивает у пользователя строку и записывает её в файл `output.txt`."
      ],
      "metadata": {
        "id": "NO_aT90DpDwS"
      }
    },
    {
      "cell_type": "code",
      "source": [
        "# Ваш код\n",
        "text=input(\"Введите строку: \")\n",
        "\n",
        "with open('output.txt', 'w', encoding='utf-8') as file:\n",
        "    file.write(text)\n",
        "\n",
        "print(f\"Строка записана в файл\")\n",
        "!cat output.txt"
      ],
      "metadata": {
        "id": "CNGiLXnkpUfa",
        "colab": {
          "base_uri": "https://localhost:8080/"
        },
        "outputId": "d4ac28d2-a7c3-4c68-c982-0980af70c526"
      },
      "execution_count": null,
      "outputs": [
        {
          "output_type": "stream",
          "name": "stdout",
          "text": [
            "Введите строку: Hello world\n",
            "Строка записана в файл\n",
            "Hello world"
          ]
        }
      ]
    },
    {
      "cell_type": "markdown",
      "source": [
        "### 2. **Чтение из файла**  \n",
        "   Напишите программу, которая открывает файл `output.txt` и выводит его содержимое на экран."
      ],
      "metadata": {
        "id": "fy_uuck5pE8B"
      }
    },
    {
      "cell_type": "code",
      "source": [
        "# Ваш код\n",
        "with open('output.txt', 'r', encoding='utf-8') as file:\n",
        "    text = file.read()\n",
        "    print(text)"
      ],
      "metadata": {
        "id": "-9eB_a1rpUuA",
        "colab": {
          "base_uri": "https://localhost:8080/"
        },
        "outputId": "24e4c1b5-f9eb-4f43-9a6e-f183b585eb25"
      },
      "execution_count": null,
      "outputs": [
        {
          "output_type": "stream",
          "name": "stdout",
          "text": [
            "Hello world\n"
          ]
        }
      ]
    },
    {
      "cell_type": "markdown",
      "source": [
        "### 3. **Подсчет строк в файле**  \n",
        "   Напишите программу, которая открывает файл `output.txt` и подсчитывает количество строк в нём."
      ],
      "metadata": {
        "id": "yaF0YWwYpF7a"
      }
    },
    {
      "cell_type": "code",
      "source": [
        "# Ваш код\n",
        "with open('output.txt', 'r', encoding='utf-8') as file:\n",
        "    lines = file.readlines()\n",
        "    line_count = len(lines)\n",
        "\n",
        "print(\"Количество строк в файле:\", line_count)"
      ],
      "metadata": {
        "id": "lZsdbitnpU8y",
        "colab": {
          "base_uri": "https://localhost:8080/"
        },
        "outputId": "d53250a9-e85d-47a3-e757-8c363636338c"
      },
      "execution_count": null,
      "outputs": [
        {
          "output_type": "stream",
          "name": "stdout",
          "text": [
            "Количество строк в файле: 1\n"
          ]
        }
      ]
    },
    {
      "cell_type": "markdown",
      "source": [
        "### 4. **Копирование содержимого файла**  \n",
        "   Напишите программу, которая копирует содержимое файла `input.txt` в файл `output.txt`."
      ],
      "metadata": {
        "id": "Ps4aMC32pG3q"
      }
    },
    {
      "cell_type": "code",
      "source": [
        "# Ваш код\n",
        "with open('input.txt', 'w', encoding='utf-8') as file:\n",
        "    file.write(\"12345 hello\")\n",
        "\n",
        "with open('input.txt', 'r', encoding='utf-8') as infile:\n",
        "    text = infile.read()\n",
        "\n",
        "with open('output.txt', 'w', encoding='utf-8') as outfile:\n",
        "    outfile.write(text)\n",
        "\n",
        "print(\"Содержимое файла успешно скопировано в output.txt\")\n",
        "!cat output.txt"
      ],
      "metadata": {
        "id": "x2LuA9ZwpVPz",
        "colab": {
          "base_uri": "https://localhost:8080/"
        },
        "outputId": "9b0f0640-45cd-4fd0-d916-50a09d06ca29"
      },
      "execution_count": null,
      "outputs": [
        {
          "output_type": "stream",
          "name": "stdout",
          "text": [
            "Содержимое файла успешно скопировано в output.txt\n",
            "12345 hello"
          ]
        }
      ]
    },
    {
      "cell_type": "markdown",
      "source": [
        "### 5. **Поиск слова в файле**  \n",
        "   Напишите программу, которая открывает файл `output.txt` и проверяет, содержится ли в нём слово, введённое пользователем."
      ],
      "metadata": {
        "id": "lWGe5Xj4oIn-"
      }
    },
    {
      "cell_type": "code",
      "source": [
        "# Ваш код\n",
        "word = input(\"Введите слово для поиска: \")\n",
        "\n",
        "with open('output.txt', 'r', encoding='utf-8') as file:\n",
        "    content = file.read()\n",
        "\n",
        "if word in content:\n",
        "    print(f\"Слово '{word}' найдено в файле.\")\n",
        "else:\n",
        "    print(f\"Слово '{word}' не найдено в файле.\")"
      ],
      "metadata": {
        "id": "dqPsCHK2pVha",
        "colab": {
          "base_uri": "https://localhost:8080/"
        },
        "outputId": "3711a36f-f0e8-4bf5-e9a3-2efb304b9767"
      },
      "execution_count": null,
      "outputs": [
        {
          "output_type": "stream",
          "name": "stdout",
          "text": [
            "Введите слово для поиска: hello\n",
            "Слово 'hello' найдено в файле.\n"
          ]
        }
      ]
    },
    {
      "cell_type": "markdown",
      "source": [
        "## **Блок заданий №4. Обработка исключений в Python (try, except, else, finally)**\n"
      ],
      "metadata": {
        "id": "1kJHV5F1o2W-"
      }
    },
    {
      "cell_type": "markdown",
      "source": [
        "### 1. **Чтение файла с обработкой FileNotFoundError**  \n",
        "   Напишите программу, которая запрашивает у пользователя имя (или путь к) файла и пытается открыть его. Если файла не существует, перехватите FileNotFoundError и выведите сообщение «Файл не найден!».\n",
        "\n",
        "\n",
        "\n",
        "\n",
        "\n",
        "\n",
        "\n"
      ],
      "metadata": {
        "id": "EpLMWWsYog9c"
      }
    },
    {
      "cell_type": "code",
      "source": [
        "# Ваш код\n",
        "filename = input(\"Введите имя или путь к файлу: \")\n",
        "try:\n",
        "    with open(filename, 'r', encoding='utf-8') as file:\n",
        "        content = file.read()\n",
        "        print(\"Файл существует\")\n",
        "except FileNotFoundError:\n",
        "    print(\"Файл не найден!\")\n"
      ],
      "metadata": {
        "id": "pdSXLhuAo9wL",
        "colab": {
          "base_uri": "https://localhost:8080/"
        },
        "outputId": "8370b87a-be1f-46df-cf21-9d39dccd58e2"
      },
      "execution_count": null,
      "outputs": [
        {
          "output_type": "stream",
          "name": "stdout",
          "text": [
            "Введите имя или путь к файлу: input.txt\n",
            "Файл существует\n"
          ]
        }
      ]
    },
    {
      "cell_type": "markdown",
      "source": [
        "### 2. **Простейший калькулятор с обработкой нескольких исключений**  \n",
        "   Напишите программу, которая спрашивает у пользователя два числа и операцию (+, -, *, /). При попытках сложения или вычитания некорректных значений перехватывайте ValueError, а при делении на ноль — ZeroDivisionError, выводя соответствующие сообщения.\n"
      ],
      "metadata": {
        "id": "_1KEOBCho7wv"
      }
    },
    {
      "cell_type": "code",
      "source": [
        "# Ваш код\n",
        "a = int(input(\"Введите число 1: \"))\n",
        "b = int(input(\"Введите число 2: \"))\n",
        "while True:\n",
        "    print(\"\\nВыберите операцию: \\n1-'+' \\n2-'-' \\n3-'*' \\n4-'/'\")\n",
        "    print(\"Для выхода нажмите любую клавишу кроме операций\")\n",
        "\n",
        "    operation = input(\"Выберите операцию: \")\n",
        "    if operation == \"1\":\n",
        "        print(f\"Сумма чисел {a + b}\")\n",
        "    elif operation == \"2\":\n",
        "        print(f\"Разность чисел {a - b}\")\n",
        "    elif operation == \"3\":\n",
        "        print(f\"Произведение чисел {a * b}\")\n",
        "    elif operation == \"4\":\n",
        "        try:\n",
        "            print(f\"Частное чисел {float(a / b)}\")\n",
        "        except ZeroDivisionError:\n",
        "            print(\"На ноль делить нельзя ZeroDivisionError\")\n",
        "    else:\n",
        "        print(\"Программа завершилась\")\n",
        "        break"
      ],
      "metadata": {
        "id": "WPcrPlXWo-bz",
        "colab": {
          "base_uri": "https://localhost:8080/"
        },
        "outputId": "cc931c2a-4587-49c2-dd56-cb709e682f11"
      },
      "execution_count": 1,
      "outputs": [
        {
          "output_type": "stream",
          "name": "stdout",
          "text": [
            "Введите число 1: 5\n",
            "Введите число 2: 0\n",
            "\n",
            "Выберите операцию: \n",
            "1-'+' \n",
            "2-'-' \n",
            "3-'*' \n",
            "4-'/'\n",
            "Для выхода нажмите любую клавишу кроме операций\n",
            "Выберите операцию: 4\n",
            "На ноль делить нельзя ZeroDivisionError\n",
            "\n",
            "Выберите операцию: \n",
            "1-'+' \n",
            "2-'-' \n",
            "3-'*' \n",
            "4-'/'\n",
            "Для выхода нажмите любую клавишу кроме операций\n",
            "Выберите операцию: q\n",
            "Программа завершилась\n"
          ]
        }
      ]
    },
    {
      "cell_type": "markdown",
      "source": [
        "### 3. **Обработка некорректного индекса (IndexError)**  \n",
        "   Создайте список из нескольких элементов (например, [10, 20, 30]). Попросите пользователя ввести индекс элемента, который нужно вывести. Если пользователь введёт индекс, выходящий за границы списка, перехватите IndexError и сообщите об этом в консоли в свободной форме."
      ],
      "metadata": {
        "id": "I-0e0lcio6tK"
      }
    },
    {
      "cell_type": "code",
      "source": [
        "# Ваш код\n",
        "roster = [i for i in range(10, 31, 10)]\n",
        "\n",
        "while True:\n",
        "    print(\"Нажмите q для выхода из программы\")\n",
        "    index = input(\"Введите индекс: \")\n",
        "    if index != \"q\":\n",
        "        index = int(index)\n",
        "        try:\n",
        "            print(roster[index])\n",
        "        except IndexError:\n",
        "            print(\"Выход за пределы границы IndexError\")\n",
        "    else:\n",
        "        print(\"Программа завершилась!\")\n",
        "        break"
      ],
      "metadata": {
        "id": "8XSXyscqo-2U",
        "colab": {
          "base_uri": "https://localhost:8080/"
        },
        "outputId": "eb4d86b9-5188-4499-f134-67defd8d3663"
      },
      "execution_count": 2,
      "outputs": [
        {
          "output_type": "stream",
          "name": "stdout",
          "text": [
            "Нажмите q для выхода из программы\n",
            "Введите индекс: 1\n",
            "20\n",
            "Нажмите q для выхода из программы\n",
            "Введите индекс: 0\n",
            "10\n",
            "Нажмите q для выхода из программы\n",
            "Введите индекс: 5\n",
            "Выход за пределы границы IndexError\n",
            "Нажмите q для выхода из программы\n",
            "Введите индекс: q\n",
            "Программа завершилась!\n"
          ]
        }
      ]
    },
    {
      "cell_type": "markdown",
      "source": [
        "### 4. **Чтение и запись в файл с обработкой ошибок**  \n",
        "  Напишите программу, которая:  \n",
        "  - Запрашивает у пользователя имя файла.  \n",
        "  - Если файл существует, программа читает его содержимое и выводит на экран.  \n",
        "  - Если файл не существует, программа создает его и записывает в него строку `\"Файл был создан\"`.  \n",
        "  Используйте обработку исключений.\n",
        "\n",
        "  Пример:  \n",
        "    ```\n",
        "    Введите имя файла: data.txt  \n",
        "    Файл не найден. Создан новый файл.\n",
        "    ```"
      ],
      "metadata": {
        "id": "OeQvEFV9o5My"
      }
    },
    {
      "cell_type": "code",
      "source": [
        "# Ваш код\n",
        "name = input(\"Введите имя файла: \")\n",
        "\n",
        "try:\n",
        "    with open(name, \"r\", encoding=\"utf-8\") as file:\n",
        "        content = file.read()\n",
        "        print(\"Содержимое файла:\")\n",
        "        print(content)\n",
        "except FileNotFoundError:\n",
        "    print(\"Файл не найден. Создан новый файл.\")\n",
        "    with open(name, \"w\", encoding=\"utf-8\") as file:\n",
        "        file.write(\"Hello world\")"
      ],
      "metadata": {
        "id": "ttNZVIbQo_LV",
        "colab": {
          "base_uri": "https://localhost:8080/"
        },
        "outputId": "499740c2-67da-4794-e69d-60cd2c3026bf"
      },
      "execution_count": 3,
      "outputs": [
        {
          "output_type": "stream",
          "name": "stdout",
          "text": [
            "Введите имя файла: data1.txt\n",
            "Содержимое файла:\n",
            "Hello world\n"
          ]
        }
      ]
    },
    {
      "cell_type": "markdown",
      "source": [
        "\n",
        "### 5. **Обработка исключений в цикле**  \n",
        "  Напишите программу, которая запрашивает у пользователя числа и добавляет их в список.  \n",
        "  - Если пользователь вводит некорректные данные, программа должна выводить сообщение об ошибке и продолжать работу.  \n",
        "  - Для выхода из программы пользователь должен ввести `\"стоп\"`.\n",
        "\n",
        "  Пример:  \n",
        "    ```\n",
        "    Введите число: 10  \n",
        "    Введите число: текст  \n",
        "    Ошибка: это не число.  \n",
        "    Введите число: стоп  \n",
        "    Итоговый список: [10]\n",
        "    ```"
      ],
      "metadata": {
        "id": "-XGCqB2zo4G_"
      }
    },
    {
      "cell_type": "code",
      "source": [
        "# Ваш код\n",
        "roaster = []\n",
        "while True:\n",
        "    val = input(\"Введите число: \")\n",
        "    if val != \"стоп\":\n",
        "        try:\n",
        "            val = int(val)\n",
        "            roaster.append(val)\n",
        "        except Exception:\n",
        "            print(\"Введите корректное число!\")\n",
        "    else:\n",
        "        print(roaster)\n",
        "        break"
      ],
      "metadata": {
        "id": "93pustD1o_hy",
        "colab": {
          "base_uri": "https://localhost:8080/"
        },
        "outputId": "3d374890-abd8-432f-8cff-c3ea13d71dc9"
      },
      "execution_count": 4,
      "outputs": [
        {
          "output_type": "stream",
          "name": "stdout",
          "text": [
            "Введите число: 1\n",
            "Введите число: 2\n",
            "Введите число: 3\n",
            "Введите число: выафыа\n",
            "Введите корректное число!\n",
            "Введите число: 4\n",
            "Введите число: стоп\n",
            "[1, 2, 3, 4]\n"
          ]
        }
      ]
    }
  ]
}
